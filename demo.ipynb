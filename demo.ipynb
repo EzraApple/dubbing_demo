{
 "cells": [
  {
   "metadata": {},
   "cell_type": "markdown",
   "source": "# Demo of the pipeline\n",
   "id": "7cac6f5a02281e53"
  },
  {
   "metadata": {},
   "cell_type": "markdown",
   "source": "## 1. Load Demo Video",
   "id": "9fdb29b561fbac60"
  },
  {
   "metadata": {
    "ExecuteTime": {
     "end_time": "2025-01-12T19:15:43.169302Z",
     "start_time": "2025-01-12T19:15:35.782913Z"
    }
   },
   "cell_type": "code",
   "source": [
    "import os\n",
    "from moviepy.editor import VideoFileClip\n",
    "\n",
    "video_path = \"demo_video.mov\"\n",
    "\n",
    "file_size_mb = os.path.getsize(video_path) / (1024 * 1024)\n",
    "clip = VideoFileClip(video_path)\n",
    "\n",
    "duration = clip.duration\n",
    "width, height = clip.size  \n",
    "fps = clip.fps  \n",
    "\n",
    "print(f\"File Name: {os.path.basename(video_path)}\")\n",
    "print(f\"File Size: {file_size_mb:.2f} MB\")\n",
    "print(f\"Video Duration: {duration:.2f} seconds\")\n",
    "print(f\"Resolution: {width}x{height}\")\n",
    "print(f\"FPS (if available): {fps}\")\n"
   ],
   "id": "e69f496692932a8c",
   "outputs": [
    {
     "name": "stdout",
     "output_type": "stream",
     "text": [
      "File Name: demo_video.mov\n",
      "File Size: 13.83 MB\n",
      "Video Duration: 10.80 seconds\n",
      "Resolution: 1280x720\n",
      "FPS (if available): 30.0\n"
     ]
    }
   ],
   "execution_count": 1
  },
  {
   "metadata": {},
   "cell_type": "markdown",
   "source": "# Transcribe Video",
   "id": "f3d1828d96df8bb8"
  },
  {
   "metadata": {
    "ExecuteTime": {
     "end_time": "2025-01-12T19:15:46.421114Z",
     "start_time": "2025-01-12T19:15:43.170415Z"
    }
   },
   "cell_type": "code",
   "source": [
    "from moviepy.editor import VideoFileClip\n",
    "from transcribe import Transcriber\n",
    "\n",
    "# 1) Extract audio from the video (using MoviePy for quick demo).\n",
    "video_path = \"demo_video.mov\"\n",
    "output_audio_path = \"demo_audio.wav\"\n",
    "\n",
    "clip = VideoFileClip(video_path)\n",
    "clip.audio.write_audiofile(output_audio_path, codec='pcm_s16le', logger=None)  # Writes a WAV by default\n",
    "\n",
    "# 2) Create a Transcriber instance\n",
    "transcriber = Transcriber(model_name=\"base\", device=\"cpu\")\n",
    "\n",
    "# 3) Transcribe the extracted audio\n",
    "result = transcriber.transcribe_audio(output_audio_path)\n",
    "\n",
    "# 4) Display the results\n",
    "transcriber.display_full_text(result)"
   ],
   "id": "1495653869253d57",
   "outputs": [
    {
     "name": "stdout",
     "output_type": "stream",
     "text": [
      "Detected language: English\n"
     ]
    },
    {
     "name": "stderr",
     "output_type": "stream",
     "text": [
      "100%|██████████| 1080/1080 [00:00<00:00, 2764.81frames/s]"
     ]
    },
    {
     "name": "stdout",
     "output_type": "stream",
     "text": [
      "\n",
      "--- Transcribed Text ---\n",
      " Hello, my name is Ezra and I'm trying to demo this cool technology. The quick brown fox jumps over the lazy dog.\n"
     ]
    },
    {
     "name": "stderr",
     "output_type": "stream",
     "text": [
      "\n"
     ]
    }
   ],
   "execution_count": 2
  },
  {
   "metadata": {},
   "cell_type": "markdown",
   "source": "## Translate Text",
   "id": "5b60c05ca7591ccd"
  },
  {
   "metadata": {
    "ExecuteTime": {
     "end_time": "2025-01-12T19:15:47.494948Z",
     "start_time": "2025-01-12T19:15:46.421950Z"
    }
   },
   "cell_type": "code",
   "source": [
    "from translate import Translator\n",
    "\n",
    "# Example transcribed text from the previous step (or supply your own)\n",
    "transcribed_text = result.get(\"text\", \"\")\n",
    "\n",
    "# Create a Translator for English-to-Spanish\n",
    "translator = Translator(source_lang=\"en\", target_lang=\"es\")\n",
    "\n",
    "# Perform the translation\n",
    "translated_text = translator.translate_text(transcribed_text)\n",
    "\n",
    "# Print the result\n",
    "print(\"Original Text:\", transcribed_text)\n",
    "print(\"Translated Text:\", translated_text)"
   ],
   "id": "69c7eafdb8276b47",
   "outputs": [
    {
     "name": "stdout",
     "output_type": "stream",
     "text": [
      "Original Text:  Hello, my name is Ezra and I'm trying to demo this cool technology. The quick brown fox jumps over the lazy dog.\n",
      "Translated Text: Hola, me llamo Ezra y estoy tratando de demoler esta tecnología genial. El zorro marrón salta sobre el perrito perezoso.\n"
     ]
    }
   ],
   "execution_count": 3
  },
  {
   "metadata": {},
   "cell_type": "markdown",
   "source": "## Speak the Text",
   "id": "22aa4e222c032bd1"
  },
  {
   "metadata": {
    "ExecuteTime": {
     "end_time": "2025-01-12T19:17:14.794155Z",
     "start_time": "2025-01-12T19:16:10.149537Z"
    }
   },
   "cell_type": "code",
   "source": [
    "# In demo.ipynb\n",
    "\n",
    "from moviepy.editor import VideoFileClip\n",
    "from speech import Speaker\n",
    "\n",
    "\n",
    "# Extract audio from demo_video.mov if you haven't done so yet:\n",
    "video_path = \"demo_video.mov\"\n",
    "extracted_audio_path = \"demo_audio.wav\"\n",
    "\n",
    "clip = VideoFileClip(video_path)\n",
    "clip.audio.write_audiofile(extracted_audio_path, codec=\"pcm_s16le\")\n",
    "\n",
    "# Initialize the Speaker with Spanish output\n",
    "speaker = Speaker(\n",
    "    model_name=\"tts_models/multilingual/multi-dataset/xtts_v2\",\n",
    "    language_code=\"es\"\n",
    ")"
   ],
   "id": "3c782839139715f7",
   "outputs": [
    {
     "name": "stdout",
     "output_type": "stream",
     "text": [
      "MoviePy - Writing audio in demo_audio.wav\n"
     ]
    },
    {
     "name": "stderr",
     "output_type": "stream",
     "text": [
      "                                                        \r"
     ]
    },
    {
     "name": "stdout",
     "output_type": "stream",
     "text": [
      "MoviePy - Done.\n",
      "Loading TTS model: tts_models/multilingual/multi-dataset/xtts_v2\n",
      " > You must confirm the following:\n",
      " | > \"I have purchased a commercial license from Coqui: licensing@coqui.ai\"\n",
      " | > \"Otherwise, I agree to the terms of the non-commercial CPML: https://coqui.ai/cpml\" - [y/n]\n",
      " > Downloading model to /Users/ezraapple/Library/Application Support/tts/tts_models--multilingual--multi-dataset--xtts_v2\n"
     ]
    },
    {
     "name": "stderr",
     "output_type": "stream",
     "text": [
      "100%|█████████▉| 1.87G/1.87G [00:44<00:00, 41.6MiB/s]\n",
      "100%|██████████| 1.87G/1.87G [00:44<00:00, 41.8MiB/s]\n",
      "100%|██████████| 4.37k/4.37k [00:00<00:00, 20.9kiB/s]\n",
      "\n",
      "100%|██████████| 361k/361k [00:00<00:00, 1.19MiB/s]\n",
      "100%|██████████| 32.0/32.0 [00:00<00:00, 101iB/s]\n",
      " 91%|█████████ | 7.04M/7.75M [00:00<00:00, 37.2MiB/s]"
     ]
    },
    {
     "name": "stdout",
     "output_type": "stream",
     "text": [
      " > Model's license - CPML\n",
      " > Check https://coqui.ai/cpml.txt for more info.\n",
      " > Using model: xtts\n"
     ]
    },
    {
     "name": "stderr",
     "output_type": "stream",
     "text": [
      "GPT2InferenceModel has generative capabilities, as `prepare_inputs_for_generation` is explicitly overwritten. However, it doesn't directly inherit from `GenerationMixin`. From 👉v4.50👈 onwards, `PreTrainedModel` will NOT inherit from `GenerationMixin`, and this model will lose the ability to call `generate` and other related functions.\n",
      "  - If you're using `trust_remote_code=True`, you can get rid of this warning by loading the model with an auto class. See https://huggingface.co/docs/transformers/en/model_doc/auto#auto-classes\n",
      "  - If you are the owner of the model architecture code, please modify your model class such that it inherits from `GenerationMixin` (after `PreTrainedModel`, otherwise you'll get an exception).\n",
      "  - If you are not the owner of the model architecture class, please contact the model code owner to update it.\n"
     ]
    },
    {
     "name": "stdout",
     "output_type": "stream",
     "text": [
      "TTS model loaded successfully.\n"
     ]
    }
   ],
   "execution_count": 6
  },
  {
   "metadata": {
    "ExecuteTime": {
     "end_time": "2025-01-12T19:17:32.402366Z",
     "start_time": "2025-01-12T19:17:19.675676Z"
    }
   },
   "cell_type": "code",
   "source": [
    "# Generate speech using the speaker's voice from the extracted audio\n",
    "output_speech_path = speaker.generate_speech(\n",
    "    text=translated_text,\n",
    "    speaker_wav=extracted_audio_path,\n",
    "    output_path=\"demo_tts.wav\"\n",
    ")\n",
    "\n",
    "print(f\"Cloned speech saved to: {output_speech_path}\")"
   ],
   "id": "6c5e2bf58ba9b0e2",
   "outputs": [
    {
     "name": "stdout",
     "output_type": "stream",
     "text": [
      "Generating speech with voice cloned from: demo_audio.wav\n",
      " > Text splitted to sentences.\n",
      "['Hola, me llamo Ezra y estoy tratando de demoler esta tecnología genial.', 'El zorro marrón salta sobre el perrito perezoso.']\n"
     ]
    },
    {
     "name": "stderr",
     "output_type": "stream",
     "text": [
      "The attention mask is not set and cannot be inferred from input because pad token is same as eos token. As a consequence, you may observe unexpected behavior. Please pass your input's `attention_mask` to obtain reliable results.\n"
     ]
    },
    {
     "name": "stdout",
     "output_type": "stream",
     "text": [
      " > Processing time: 12.710139036178589\n",
      " > Real-time factor: 1.2908003212405024\n",
      "Cloned speech saved to: demo_tts.wav\n"
     ]
    }
   ],
   "execution_count": 7
  },
  {
   "metadata": {},
   "cell_type": "code",
   "outputs": [],
   "execution_count": null,
   "source": "",
   "id": "9ba331f2367e83bf"
  }
 ],
 "metadata": {
  "kernelspec": {
   "display_name": "Python (dubbing_demo)",
   "language": "python",
   "name": "dubbing_demo"
  },
  "language_info": {
   "codemirror_mode": {
    "name": "ipython",
    "version": 2
   },
   "file_extension": ".py",
   "mimetype": "text/x-python",
   "name": "python",
   "nbconvert_exporter": "python",
   "pygments_lexer": "ipython2",
   "version": "2.7.6"
  }
 },
 "nbformat": 4,
 "nbformat_minor": 5
}
