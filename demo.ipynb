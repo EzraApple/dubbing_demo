{
 "cells": [
  {
   "metadata": {},
   "cell_type": "markdown",
   "source": "# Demo of the pipeline\n",
   "id": "7cac6f5a02281e53"
  },
  {
   "metadata": {},
   "cell_type": "markdown",
   "source": "## 1. Load Demo Video",
   "id": "9fdb29b561fbac60"
  },
  {
   "metadata": {
    "ExecuteTime": {
     "end_time": "2025-01-05T23:15:03.985387Z",
     "start_time": "2025-01-05T23:15:03.638094Z"
    }
   },
   "cell_type": "code",
   "source": [
    "import os\n",
    "from moviepy.editor import VideoFileClip\n",
    "\n",
    "video_path = \"demo_video.mov\"\n",
    "\n",
    "file_size_mb = os.path.getsize(video_path) / (1024 * 1024)\n",
    "clip = VideoFileClip(video_path)\n",
    "\n",
    "duration = clip.duration\n",
    "width, height = clip.size  \n",
    "fps = clip.fps  \n",
    "\n",
    "print(f\"File Name: {os.path.basename(video_path)}\")\n",
    "print(f\"File Size: {file_size_mb:.2f} MB\")\n",
    "print(f\"Video Duration: {duration:.2f} seconds\")\n",
    "print(f\"Resolution: {width}x{height}\")\n",
    "print(f\"FPS (if available): {fps}\")\n"
   ],
   "id": "e69f496692932a8c",
   "outputs": [
    {
     "name": "stdout",
     "output_type": "stream",
     "text": [
      "File Name: demo_video.mov\n",
      "File Size: 13.83 MB\n",
      "Video Duration: 10.80 seconds\n",
      "Resolution: 1280x720\n",
      "FPS (if available): 30.0\n"
     ]
    }
   ],
   "execution_count": 1
  },
  {
   "metadata": {},
   "cell_type": "markdown",
   "source": "# Transcribe Video",
   "id": "f3d1828d96df8bb8"
  },
  {
   "metadata": {
    "ExecuteTime": {
     "end_time": "2025-01-05T23:15:05.921757Z",
     "start_time": "2025-01-05T23:15:03.986753Z"
    }
   },
   "cell_type": "code",
   "source": [
    "from moviepy.editor import VideoFileClip\n",
    "from transcribe import Transcriber\n",
    "\n",
    "# 1) Extract audio from the video (using MoviePy for quick demo).\n",
    "video_path = \"demo_video.mov\"\n",
    "output_audio_path = \"demo_audio.wav\"\n",
    "\n",
    "clip = VideoFileClip(video_path)\n",
    "clip.audio.write_audiofile(output_audio_path, codec='pcm_s16le', logger=None)  # Writes a WAV by default\n",
    "\n",
    "# 2) Create a Transcriber instance\n",
    "transcriber = Transcriber(model_name=\"base\", device=\"cpu\")\n",
    "\n",
    "# 3) Transcribe the extracted audio\n",
    "result = transcriber.transcribe_audio(output_audio_path)\n",
    "\n",
    "# 4) Display the results\n",
    "transcriber.display_full_text(result)"
   ],
   "id": "1495653869253d57",
   "outputs": [
    {
     "name": "stdout",
     "output_type": "stream",
     "text": [
      "Detected language: English\n"
     ]
    },
    {
     "name": "stderr",
     "output_type": "stream",
     "text": [
      "100%|██████████| 1080/1080 [00:00<00:00, 2794.71frames/s]"
     ]
    },
    {
     "name": "stdout",
     "output_type": "stream",
     "text": [
      "\n",
      "--- Transcribed Text ---\n",
      " Hello, my name is Ezra and I'm trying to demo this cool technology. The quick brown fox jumps over the lazy dog.\n"
     ]
    },
    {
     "name": "stderr",
     "output_type": "stream",
     "text": [
      "\n"
     ]
    }
   ],
   "execution_count": 2
  },
  {
   "metadata": {},
   "cell_type": "markdown",
   "source": "## Translate Text",
   "id": "5b60c05ca7591ccd"
  },
  {
   "metadata": {
    "ExecuteTime": {
     "end_time": "2025-01-05T23:25:25.522480Z",
     "start_time": "2025-01-05T23:25:21.484788Z"
    }
   },
   "cell_type": "code",
   "source": [
    "from translate import Translator\n",
    "\n",
    "# Example transcribed text from the previous step (or supply your own)\n",
    "transcribed_text = result.get(\"text\", \"\")\n",
    "\n",
    "# Create a Translator for English-to-Spanish\n",
    "translator = Translator(source_lang=\"en\", target_lang=\"es\")\n",
    "\n",
    "# Perform the translation\n",
    "translated_text = translator.translate_text(transcribed_text)\n",
    "\n",
    "# Print the result\n",
    "print(\"Original Text:\", transcribed_text)\n",
    "print(\"Translated Text:\", translated_text)"
   ],
   "id": "69c7eafdb8276b47",
   "outputs": [
    {
     "name": "stdout",
     "output_type": "stream",
     "text": [
      "Original Text:  Hello, my name is Ezra and I'm trying to demo this cool technology. The quick brown fox jumps over the lazy dog.\n",
      "Translated Text: Hola, me llamo Ezra y estoy tratando de demoler esta tecnología genial. El zorro marrón salta sobre el perrito perezoso.\n"
     ]
    }
   ],
   "execution_count": 3
  },
  {
   "metadata": {},
   "cell_type": "code",
   "outputs": [],
   "execution_count": null,
   "source": "",
   "id": "ca15c5edd4ccf03d"
  }
 ],
 "metadata": {
  "kernelspec": {
   "display_name": "Python (dubbing_demo)",
   "language": "python",
   "name": "dubbing_demo"
  },
  "language_info": {
   "codemirror_mode": {
    "name": "ipython",
    "version": 2
   },
   "file_extension": ".py",
   "mimetype": "text/x-python",
   "name": "python",
   "nbconvert_exporter": "python",
   "pygments_lexer": "ipython2",
   "version": "2.7.6"
  }
 },
 "nbformat": 4,
 "nbformat_minor": 5
}
